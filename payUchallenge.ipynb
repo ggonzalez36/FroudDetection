{
 "cells": [
  {
   "cell_type": "code",
   "execution_count": 20,
   "metadata": {},
   "outputs": [],
   "source": [
    "import pandas as pd\n",
    "import glob\n",
    "from numpy.ma import sort\n",
    "\n",
    "\n",
    "#Cargo todos las transaciones\n",
    "path =r'C:/Desarrollo/data sets/'\n",
    "allFiles = glob.glob(path + \"/*.csv\")\n",
    "tf = pd.DataFrame()\n",
    "list_ = []\n",
    "for file_ in allFiles:\n",
    "    df = pd.read_csv(file_,index_col=None, header=0)\n",
    "    list_.append(df)"
   ]
  },
  {
   "cell_type": "code",
   "execution_count": 21,
   "metadata": {},
   "outputs": [],
   "source": [
    "#Preprocesamiento de la data\n",
    "#Este dataframe contiene todas las transacciones\n",
    "tf = pd.concat(list_, sort=False)"
   ]
  },
  {
   "cell_type": "code",
   "execution_count": 22,
   "metadata": {},
   "outputs": [],
   "source": [
    "#Este dataframe contiene listas  blancas y negras\n",
    "lf= pd.read_csv('C:/Desarrollo/data sets/list/lists201610201705.csv')"
   ]
  },
  {
   "cell_type": "code",
   "execution_count": 23,
   "metadata": {},
   "outputs": [
    {
     "name": "stdout",
     "output_type": "stream",
     "text": [
      "Total de transacciones fraudulentas\n",
      "uuid             28400\n",
      "creation_date    21949\n",
      "email            21949\n",
      "card             21949\n",
      "status           21949\n",
      "chargeback       21949\n",
      "amount           21949\n",
      "dtype: int64\n"
     ]
    }
   ],
   "source": [
    "#Filtrado de la data\n",
    "#Filtro estados 11 y 12 chargeback=true\n",
    "froudT= tf [(tf.status==11) | (tf.status==12)|(tf.chargeback==True) ]\n",
    "\n",
    "#Filtrado  lista negra\n",
    "froudL= lf[(lf.blacklist==True)]\n",
    "\n",
    "#Join of  Dataframes froudulentos es outer por que puede cumplir cualquera de las condiciones\n",
    "froudj= froudT.merge(froudL, left_on='uuid',right_on='uuid', how='outer')\n",
    "froudj=froudj.drop([\"eval_uuid\",\"blacklist\",\"whitelist\"], axis=1)\n",
    "print('Total de transacciones fraudulentas')\n",
    "print(froudj.count())\n"
   ]
  },
  {
   "cell_type": "code",
   "execution_count": 24,
   "metadata": {},
   "outputs": [
    {
     "name": "stdout",
     "output_type": "stream",
     "text": [
      " Expansion de fraude \n",
      "email            46325\n",
      "card             46325\n",
      "uuid             46325\n",
      "creation_date    46325\n",
      "status           46325\n",
      "chargeback       46325\n",
      "amount           46325\n",
      "dtype: int64\n"
     ]
    }
   ],
   "source": [
    "#Expansion de fraude: join por email y por tarjeta de transaciones fraudulentas\n",
    "froudTotal=froudj.merge(tf,left_on=['email','card'],right_on=['email','card'], how='inner')\n",
    "froudTotal=froudTotal.drop([\"status_x\",\"uuid_x\", \"creation_date_x\", \"chargeback_x\", \"amount_x\" ],axis=1)\n",
    "froudTotal.set_index('uuid_y')\n",
    "froudTotal.rename( columns={\"uuid_y\":\"uuid\",\"creation_date_y\":\"creation_date\",\"status_y\":\"status\",\n",
    "                                           \"chargeback_y\":\"chargeback\",\"amount_y\":\"amount\"},inplace=True)\n",
    "#elimino valores duplicados\n",
    "froudTotal=froudTotal.drop_duplicates(keep='first')\n",
    "\n",
    "print(' Expansion de fraude ')\n",
    "print(froudTotal.count())"
   ]
  },
  {
   "cell_type": "code",
   "execution_count": 25,
   "metadata": {},
   "outputs": [
    {
     "name": "stdout",
     "output_type": "stream",
     "text": [
      " Total legitimas \n",
      "uuid             453018\n",
      "creation_date    453018\n",
      "email            453018\n",
      "card             453018\n",
      "status           453018\n",
      "chargeback       453018\n",
      "amount           453018\n",
      "dtype: int64\n"
     ]
    }
   ],
   "source": [
    "#Transacciones legitimas\n",
    "lt2=tf [(tf.status==8)]\n",
    "# encuentro  valores comunes entre legitimas y  fraudulentas\n",
    "trueNegatives=lt2.merge(froudTotal, left_on=['uuid','email','card','creation_date','status', 'chargeback','amount'], right_on=['uuid','email','card','creation_date','status', 'chargeback','amount'], how='inner')\n",
    "\n",
    "frames=[lt2,trueNegatives]\n",
    "#borro duplicados para dejar solo las legitimas que cumplen con regla 1 y 2\n",
    "legitimTotal=pd.concat(frames)\n",
    "legitimTotal=legitimTotal.drop_duplicates(keep=False)\n",
    "print(' Total legitimas ')\n",
    "print(legitimTotal.count())"
   ]
  },
  {
   "cell_type": "code",
   "execution_count": 26,
   "metadata": {},
   "outputs": [
    {
     "name": "stdout",
     "output_type": "stream",
     "text": [
      "amount           499343\n",
      "card             499343\n",
      "chargeback       499343\n",
      "creation_date    499343\n",
      "email            499343\n",
      "isFraud          499343\n",
      "status           499343\n",
      "uuid             499343\n",
      "LengthEmail      499343\n",
      "domain           499343\n",
      "countEmail       499343\n",
      "dtype: int64\n"
     ]
    }
   ],
   "source": [
    "#agrego flag de clasificacion despues  de ejecutar las reglas\n",
    "froudTotal['isFraud']= True\n",
    "legitimTotal['isFraud']= False\n",
    "\n",
    "#unifico y obtengo mi nuevo dataset\n",
    "frames=[froudTotal,legitimTotal]\n",
    "newDataSet=pd.concat(frames, sort=True)\n",
    "newDataSet.set_index('uuid')\n",
    "\n",
    "\n",
    "#agrego longitud de correo  y  el dominio\n",
    "newDataSet['LengthEmail']= newDataSet['email'].map(str).apply(len)\n",
    "def domainsplit(x):\n",
    "    try:\n",
    "        return x.split('@')[1]\n",
    "    except:\n",
    "        return 'not domain'\n",
    "newDataSet['domain']= newDataSet['email'].apply(lambda x:domainsplit(x))\n",
    "\n",
    "# # agrego contador de email\n",
    "\n",
    "newDataSet['countEmail']= newDataSet.groupby('email').cumcount() + 1\n",
    "\n",
    "print(newDataSet.count())"
   ]
  },
  {
   "cell_type": "code",
   "execution_count": 27,
   "metadata": {},
   "outputs": [
    {
     "data": {
      "text/html": [
       "<div>\n",
       "<style scoped>\n",
       "    .dataframe tbody tr th:only-of-type {\n",
       "        vertical-align: middle;\n",
       "    }\n",
       "\n",
       "    .dataframe tbody tr th {\n",
       "        vertical-align: top;\n",
       "    }\n",
       "\n",
       "    .dataframe thead th {\n",
       "        text-align: right;\n",
       "    }\n",
       "</style>\n",
       "<table border=\"1\" class=\"dataframe\">\n",
       "  <thead>\n",
       "    <tr style=\"text-align: right;\">\n",
       "      <th></th>\n",
       "      <th>amount</th>\n",
       "      <th>card</th>\n",
       "      <th>chargeback</th>\n",
       "      <th>creation_date</th>\n",
       "      <th>email</th>\n",
       "      <th>isFraud</th>\n",
       "      <th>status</th>\n",
       "      <th>uuid</th>\n",
       "      <th>LengthEmail</th>\n",
       "      <th>domain</th>\n",
       "      <th>countEmail</th>\n",
       "    </tr>\n",
       "  </thead>\n",
       "  <tbody>\n",
       "    <tr>\n",
       "      <th>0</th>\n",
       "      <td>10.0</td>\n",
       "      <td>52EA828244A19F016AFF0BE6BE7E2FA0DED0BCEB3971CE...</td>\n",
       "      <td>False</td>\n",
       "      <td>2016-10-01T00:12:32Z</td>\n",
       "      <td>em19i_k9_@hotmail.com</td>\n",
       "      <td>True</td>\n",
       "      <td>8</td>\n",
       "      <td>-5631698267031680927</td>\n",
       "      <td>21</td>\n",
       "      <td>hotmail.com</td>\n",
       "      <td>1</td>\n",
       "    </tr>\n",
       "    <tr>\n",
       "      <th>1</th>\n",
       "      <td>55.0</td>\n",
       "      <td>52EA828244A19F016AFF0BE6BE7E2FA0DED0BCEB3971CE...</td>\n",
       "      <td>True</td>\n",
       "      <td>2016-10-01T00:31:36Z</td>\n",
       "      <td>em19i_k9_@hotmail.com</td>\n",
       "      <td>True</td>\n",
       "      <td>11</td>\n",
       "      <td>-6604111154923827804</td>\n",
       "      <td>21</td>\n",
       "      <td>hotmail.com</td>\n",
       "      <td>2</td>\n",
       "    </tr>\n",
       "    <tr>\n",
       "      <th>2</th>\n",
       "      <td>10.0</td>\n",
       "      <td>52EA828244A19F016AFF0BE6BE7E2FA0DED0BCEB3971CE...</td>\n",
       "      <td>False</td>\n",
       "      <td>2016-10-02T05:14:57Z</td>\n",
       "      <td>em19i_k9_@hotmail.com</td>\n",
       "      <td>True</td>\n",
       "      <td>8</td>\n",
       "      <td>-4756153771826776663</td>\n",
       "      <td>21</td>\n",
       "      <td>hotmail.com</td>\n",
       "      <td>3</td>\n",
       "    </tr>\n",
       "    <tr>\n",
       "      <th>3</th>\n",
       "      <td>91.0</td>\n",
       "      <td>52EA828244A19F016AFF0BE6BE7E2FA0DED0BCEB3971CE...</td>\n",
       "      <td>True</td>\n",
       "      <td>2016-10-02T05:42:37Z</td>\n",
       "      <td>em19i_k9_@hotmail.com</td>\n",
       "      <td>True</td>\n",
       "      <td>11</td>\n",
       "      <td>-5953423335869321638</td>\n",
       "      <td>21</td>\n",
       "      <td>hotmail.com</td>\n",
       "      <td>4</td>\n",
       "    </tr>\n",
       "    <tr>\n",
       "      <th>4</th>\n",
       "      <td>10.0</td>\n",
       "      <td>52EA828244A19F016AFF0BE6BE7E2FA0DED0BCEB3971CE...</td>\n",
       "      <td>False</td>\n",
       "      <td>2016-10-02T16:31:15Z</td>\n",
       "      <td>em19i_k9_@hotmail.com</td>\n",
       "      <td>True</td>\n",
       "      <td>8</td>\n",
       "      <td>-7771278947251870624</td>\n",
       "      <td>21</td>\n",
       "      <td>hotmail.com</td>\n",
       "      <td>5</td>\n",
       "    </tr>\n",
       "  </tbody>\n",
       "</table>\n",
       "</div>"
      ],
      "text/plain": [
       "   amount                                               card  chargeback  \\\n",
       "0    10.0  52EA828244A19F016AFF0BE6BE7E2FA0DED0BCEB3971CE...       False   \n",
       "1    55.0  52EA828244A19F016AFF0BE6BE7E2FA0DED0BCEB3971CE...        True   \n",
       "2    10.0  52EA828244A19F016AFF0BE6BE7E2FA0DED0BCEB3971CE...       False   \n",
       "3    91.0  52EA828244A19F016AFF0BE6BE7E2FA0DED0BCEB3971CE...        True   \n",
       "4    10.0  52EA828244A19F016AFF0BE6BE7E2FA0DED0BCEB3971CE...       False   \n",
       "\n",
       "          creation_date                  email  isFraud  status  \\\n",
       "0  2016-10-01T00:12:32Z  em19i_k9_@hotmail.com     True       8   \n",
       "1  2016-10-01T00:31:36Z  em19i_k9_@hotmail.com     True      11   \n",
       "2  2016-10-02T05:14:57Z  em19i_k9_@hotmail.com     True       8   \n",
       "3  2016-10-02T05:42:37Z  em19i_k9_@hotmail.com     True      11   \n",
       "4  2016-10-02T16:31:15Z  em19i_k9_@hotmail.com     True       8   \n",
       "\n",
       "                  uuid  LengthEmail       domain  countEmail  \n",
       "0 -5631698267031680927           21  hotmail.com           1  \n",
       "1 -6604111154923827804           21  hotmail.com           2  \n",
       "2 -4756153771826776663           21  hotmail.com           3  \n",
       "3 -5953423335869321638           21  hotmail.com           4  \n",
       "4 -7771278947251870624           21  hotmail.com           5  "
      ]
     },
     "execution_count": 27,
     "metadata": {},
     "output_type": "execute_result"
    }
   ],
   "source": [
    "newDataSet.head()\n"
   ]
  },
  {
   "cell_type": "code",
   "execution_count": 28,
   "metadata": {},
   "outputs": [
    {
     "name": "stdout",
     "output_type": "stream",
     "text": [
      "               uuid        status        amount\n",
      "count  4.632500e+04  46325.000000  46325.000000\n",
      "mean  -6.916078e+18      9.339946     46.277557\n",
      "std    1.331781e+18      2.331973     71.375483\n",
      "min   -9.223239e+18      3.000000      6.000000\n",
      "25%   -8.072075e+18      8.000000     10.000000\n",
      "50%   -6.912308e+18      8.000000     10.000000\n",
      "75%   -5.759719e+18     12.000000     62.000000\n",
      "max   -4.611710e+18     12.000000   1563.000000\n",
      "               uuid    status         amount\n",
      "count  4.530180e+05  453018.0  453018.000000\n",
      "mean  -6.917892e+18       8.0      34.099748\n",
      "std    1.331460e+18       0.0      43.977120\n",
      "min   -9.223365e+18       8.0       5.000000\n",
      "25%   -8.071205e+18       8.0      10.000000\n",
      "50%   -6.915065e+18       8.0      10.000000\n",
      "75%   -5.765594e+18       8.0      48.000000\n",
      "max   -4.611688e+18       8.0     942.000000\n"
     ]
    }
   ],
   "source": [
    "#Describe entre fraudulentos  yno frudulentos\n",
    "print (froudTotal.describe())\n",
    "print (legitimTotal.describe())\n"
   ]
  },
  {
   "cell_type": "code",
   "execution_count": 29,
   "metadata": {},
   "outputs": [
    {
     "data": {
      "image/png": "[encoded data removed]",
      "text/plain": [
       "<Figure size 720x432 with 2 Axes>"
      ]
     },
     "metadata": {
      "needs_background": "light"
     },
     "output_type": "display_data"
    }
   ],
   "source": [
    "import matplotlib.pyplot as plt\n",
    "\n",
    "f, (ax1, ax2) = plt.subplots(2, 1, sharex=True, figsize=(10,6))\n",
    "\n",
    "bins = 20\n",
    "\n",
    "ax1.hist(froudTotal.amount, bins = bins)\n",
    "ax1.set_title('Fraud')\n",
    "\n",
    "ax2.hist(legitimTotal.amount, bins = bins)\n",
    "ax2.set_title('Legitim')\n",
    "\n",
    "plt.xlabel('amount')\n",
    "plt.ylabel('Number of Observations')\n",
    "plt.show()\n",
    "\n"
   ]
  },
  {
   "cell_type": "code",
   "execution_count": 2,
   "metadata": {},
   "outputs": [
    {
     "ename": "ModuleNotFoundError",
     "evalue": "No module named 'sklearn'",
     "output_type": "error",
     "traceback": [
      "\u001b[1;31m---------------------------------------------------------------------------\u001b[0m",
      "\u001b[1;31mModuleNotFoundError\u001b[0m                       Traceback (most recent call last)",
      "\u001b[1;32m<ipython-input-2-d0ad5e9a4dd8>\u001b[0m in \u001b[0;36m<module>\u001b[1;34m\u001b[0m\n\u001b[1;32m----> 1\u001b[1;33m \u001b[1;32mfrom\u001b[0m \u001b[0msklearn\u001b[0m\u001b[1;33m.\u001b[0m\u001b[0mpreprocessing\u001b[0m \u001b[1;32mimport\u001b[0m \u001b[0mMinMaxScaler\u001b[0m\u001b[1;33m\u001b[0m\u001b[0m\n\u001b[0m\u001b[0;32m      2\u001b[0m \u001b[1;33m\u001b[0m\u001b[0m\n\u001b[0;32m      3\u001b[0m \u001b[0mscaler\u001b[0m \u001b[1;33m=\u001b[0m \u001b[0mMinMaxScaler\u001b[0m\u001b[1;33m(\u001b[0m\u001b[1;33m)\u001b[0m\u001b[1;33m\u001b[0m\u001b[0m\n\u001b[0;32m      4\u001b[0m \u001b[0mnewDataSet\u001b[0m\u001b[1;33m=\u001b[0m\u001b[0mnewDataSet\u001b[0m\u001b[1;33m.\u001b[0m\u001b[0mdrop\u001b[0m\u001b[1;33m(\u001b[0m\u001b[1;33m[\u001b[0m\u001b[1;34m\"card\"\u001b[0m\u001b[1;33m,\u001b[0m\u001b[1;34m\"creation_date\"\u001b[0m\u001b[1;33m,\u001b[0m\u001b[1;34m\"email\"\u001b[0m\u001b[1;33m,\u001b[0m \u001b[1;34m\"domain\"\u001b[0m\u001b[1;33m]\u001b[0m\u001b[1;33m,\u001b[0m \u001b[0maxis\u001b[0m\u001b[1;33m=\u001b[0m\u001b[1;36m1\u001b[0m\u001b[1;33m)\u001b[0m\u001b[1;33m\u001b[0m\u001b[0m\n\u001b[0;32m      5\u001b[0m \u001b[0mscaler\u001b[0m\u001b[1;33m.\u001b[0m\u001b[0mfit\u001b[0m\u001b[1;33m(\u001b[0m\u001b[0mnewDataSet\u001b[0m\u001b[1;33m)\u001b[0m\u001b[1;33m\u001b[0m\u001b[0m\n",
      "\u001b[1;31mModuleNotFoundError\u001b[0m: No module named 'sklearn'"
     ]
    }
   ],
   "source": [
    "from sklearn.preprocessing import MinMaxScaler\n",
    "\n",
    "scaler = MinMaxScaler()\n",
    "newDataSet=newDataSet.drop([\"card\",\"creation_date\",\"email\", \"domain\"], axis=1)\n",
    "scaler.fit(newDataSet)\n",
    "train_feature_trans = scaler.transform(newDataSet)\n",
    "test_feature_trans = scaler.transform(newDataSet)"
   ]
  },
  {
   "cell_type": "code",
   "execution_count": 1,
   "metadata": {},
   "outputs": [
    {
     "name": "stderr",
     "output_type": "stream",
     "text": [
      "Using TensorFlow backend.\n"
     ]
    }
   ],
   "source": [
    "from keras.models import Sequential\n",
    "from keras.layers import Dense\n",
    "from keras.layers import Dropout\n",
    "\n",
    "def show_train_history(train_history,train,validation):\n",
    "    plt.plot(train_history.history[train])\n",
    "    plt.plot(train_history.history[validation])\n",
    "    plt.title('Train History')\n",
    "    plt.ylabel(train)\n",
    "    plt.xlabel('Epoch')\n",
    "    plt.legend(['train', 'validation'], loc='best')\n",
    "    plt.show()\n"
   ]
  },
  {
   "cell_type": "code",
   "execution_count": null,
   "metadata": {},
   "outputs": [],
   "source": []
  },
  {
   "cell_type": "code",
   "execution_count": null,
   "metadata": {},
   "outputs": [],
   "source": []
  },
  {
   "cell_type": "code",
   "execution_count": null,
   "metadata": {},
   "outputs": [],
   "source": []
  }
 ],
 "metadata": {
  "kernelspec": {
   "display_name": "Python 3",
   "language": "python",
   "name": "python3"
  },
  "language_info": {
   "codemirror_mode": {
    "name": "ipython",
    "version": 3
   },
   "file_extension": ".py",
   "mimetype": "text/x-python",
   "name": "python",
   "nbconvert_exporter": "python",
   "pygments_lexer": "ipython3",
   "version": "3.6.6"
  }
 },
 "nbformat": 4,
 "nbformat_minor": 2
}
